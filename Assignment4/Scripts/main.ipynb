{
 "cells": [
  {
   "cell_type": "markdown",
   "id": "671a604e",
   "metadata": {},
   "source": [
    "On data from head and neck cancer patients, sourced from The Cancer Imaging Archive. This dataset contains survival time, event indicators, and covariates such as age, treatment type, and tumor stage"
   ]
  },
  {
   "cell_type": "markdown",
   "id": "ceebb37d",
   "metadata": {},
   "source": [
    "### 1. Kaplan-Meier Analysis\n",
    "- Generate Kaplan-Meier survival curves for at least two distinct groups (e.g., treatment\n",
    "type, age group, or tumor stage), ensuring each group has its own plot.\n",
    "-  For each plot, conduct a log-rank test to compare survival differences between the\n",
    "groups.\n"
   ]
  },
  {
   "cell_type": "markdown",
   "id": "caa0f2a1",
   "metadata": {},
   "source": [
    "### 2. Cox Proportional Hazards Regression\n",
    "- Perform a Cox regression analysis, including at least three covariates.\n",
    "- Validate the proportional hazards assumption.\n"
   ]
  },
  {
   "cell_type": "markdown",
   "id": "a94dd6d9",
   "metadata": {},
   "source": [
    "### 3. Random Survival Forests (RSF)\n",
    "- Build a Random Survival Forest model to predict survival.\n",
    "- Perform variable importance analysis to identify the most predictive factors.\n",
    "- Compare the model’s concordance index (C-index) with that of Cox regression"
   ]
  }
 ],
 "metadata": {
  "language_info": {
   "name": "python"
  }
 },
 "nbformat": 4,
 "nbformat_minor": 5
}
