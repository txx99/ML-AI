{
 "cells": [
  {
   "cell_type": "markdown",
   "metadata": {},
   "source": [
    "# Lab 10: Pharmacogenomic Analysis - Drug Sensitivity in Breast Cancer\n",
    "\n",
    "## Overview  \n",
    "This analysis explores the inhibitory efficiency (IC50) of a drug in breast cancer using the **Genomics of Drug Sensitivity in Cancer (GDSC)** dataset. We compare various experiments by analyzing key biological and experimental features that influence drug response.\n",
    "\n",
    "**Recall** that the IC50 represents the drug concentration needed to inhibit 50% of cell viability in cell line experiments.\n",
    "<img src=\"dose-response-curve.png\" alt=\"drawing\" style=\"width:500px;\"/>\n",
    "\n",
    "## Topics Covered\n",
    "\n",
    "### 1. Data Processing / Exploration\n",
    "In this step, we will load the GDSC dataset and perform initial data processing and exploration. This includes:\n",
    "- Loading the dataset and displaying summary statistics.\n",
    "- Visualizing the distribution of key variables, such as the IC50 values, to understand the data better.\n",
    "\n",
    "### 2. Framing the Question / Formatting the Data for ML\n",
    "In this step, we will frame the machine learning question we want to answer. This includes:\n",
    "- Defining the target variable (e.g., binary classification of drug sensitivity based on IC50 values) and the features (e.g., gene expression levels, mutation status).\n",
    "- Splitting the data into training and testing sets to evaluate the performance of our models.\n",
    "\n",
    "### 3. Implementing ML Models\n",
    "In this step, we will implement and evaluate various machine learning models to predict drug sensitivity. This includes:\n",
    "- Building a simple baseline model, such as logistic regression, to establish a performance benchmark.\n",
    "- Implementing more advanced models, such as decision trees, random forests, or support vector machines, to improve prediction accuracy.\n",
    "- Evaluating the performance of the models using appropriate metrics, such as or accuracy, F1-score, etc.\n",
    "- Visualizing the results to interpret the model's performance and understand the key features influencing drug sensitivity.\n"
   ]
  },
  {
   "cell_type": "markdown",
   "metadata": {},
   "source": [
    "## 1. Data Processing / Exploration\n",
    "\n",
    "We will start by loading a semi-curated dataset, where the raw data is available from the Genomics of Drug Sensitivity in Cancer (GDSC) database (https://www.cancerrxgene.org/)."
   ]
  },
  {
   "cell_type": "code",
   "execution_count": null,
   "metadata": {},
   "outputs": [],
   "source": [
    "# Package imports - loading and plotting stuff\n",
    "import pandas as pd, numpy as np, random\n",
    "import matplotlib.pyplot as plt, seaborn as sns\n",
    "\n",
    "# Load / quick formatting\n",
    "raw_data = pd.read_csv(\"GDSC_DATASET.csv\")  \n",
    "raw_data.columns = [\" \".join(x.split(\"\\n\")).lower() for x in raw_data.columns]"
   ]
  },
  {
   "cell_type": "markdown",
   "metadata": {},
   "source": [
    "**Columns of GDSC dataset:**\n",
    "1. **COSMIC_ID:** Unique identifier for the cell line from the COSMIC database.\n",
    "2. **CELL_LINE_NAME:** Name of the cancer cell line used in the experiment.\n",
    "3. **TCGA_DESC:** Description of the cancer type according to The Cancer Genome Atlas.\n",
    "4. **DRUG_ID:** Unique identifier for the drug used in the experiment.\n",
    "5. **DRUG_NAME:** Name of the drug used in the experiment.\n",
    "6. **LN_IC50:** Natural log of the half-maximal inhibitory concentration (IC50).\n",
    "7. **AUC:** Area Under the Curve, a measure of drug effectiveness.\n",
    "9. **Z_SCORE:** Standardized score of the drug response, allowing comparison across different drugs and cell lines.\n",
    "9. **GDSC Tissue descriptor 1:** Primary tissue type classification.\n",
    "10. **GDSC Tissue descriptor 2:** Secondary tissue type classification.\n",
    "11. **Cancer Type (matching TCGA label):** Cancer type according to TCGA classification.\n",
    "12. **Microsatellite instability Status (MSI):** Indicates the cell line's MSI status.\n",
    "13. **Screen Medium:** The growth medium used for culturing the cell line.\n",
    "14. **Growth Properties:** Characteristics of how the cell line grows in culture.\n",
    "15. **Copy Number Alterations (CNA):** Data on gene copy number changes in the cell line.\n",
    "16. **Gene Expression:** Information on gene expression levels in the cell line.\n",
    "17. **Methylation:** Data on DNA methylation patterns in the cell line.\n",
    "18. **TARGET:** The molecular target(s) of the drug.\n",
    "19. **TARGET_PATHWAY:** The biological pathway(s) targeted by the drug."
   ]
  },
  {
   "cell_type": "code",
   "execution_count": null,
   "metadata": {},
   "outputs": [],
   "source": [
    "# Isolate the breast cancer data\n",
    "brca_data = raw_data.copy()[raw_data[\"tcga_desc\"] == \"BRCA\"]\n",
    "\n",
    "# Visualize the IC50 Distribution for all data and our subset of interest\n",
    "fig, axes = plt.subplots(1, 2, figsize=(16, 6))\n",
    "\n",
    "sns.histplot(raw_data[\"ln_ic50\"], bins=30, kde=True, color='blue', ax=axes[0])\n",
    "axes[0].set_title('IC50 Distribution - All Data')\n",
    "axes[0].set_xlabel(\"IC50 (Natural Log)\")\n",
    "axes[0].set_ylabel(\"Frequency\")\n",
    "\n",
    "sns.histplot(brca_data[\"ln_ic50\"], bins=30, kde=True, color='red', ax=axes[1])\n",
    "axes[1].set_title('IC50 Distribution - BRCA Data')\n",
    "axes[1].set_xlabel(\"IC50 (Natural Log)\")\n",
    "axes[1].set_ylabel(\"Frequency\")\n",
    "\n",
    "plt.tight_layout()\n",
    "plt.show()"
   ]
  },
  {
   "cell_type": "markdown",
   "metadata": {},
   "source": [
    "## Questions for Exploration\n",
    "\n",
    "1. How many experiments are in this dataset (i.e., number of rows)?\n",
    "2. How many different cancer types are represented? Which are the top 3 in terms of number of experiments available?\n",
    "3. What are the correlations between numerical features and the target variable (IC50)? Is this expected?\n",
    "4. What is the distribution of IC50 values across different categories (e.g., MSI status, screen medium)?"
   ]
  },
  {
   "cell_type": "markdown",
   "metadata": {},
   "source": [
    "## 2. Framing the Question / Formatting the Data for ML\n",
    "In this step, we will frame the machine learning question we want to answer. \n",
    "\n",
    "### Pairwise Comparison Approach  \n",
    "- Each experiment is represented as a feature vector $X_a$ and $X_b$.  \n",
    "- We compare the IC50 values ($y_a$, $y_b$) between two experiments to determine which experimental condition leads to higher or lower drug sensitivity.  \n",
    "- This transforms the problem into a binary classification task, where the model predicts whether one condition results in an increase or decrease in IC50. \n",
    "\n",
    "### Features Considered  \n",
    "- **Binary Features:**  \n",
    "  - Microsatellite instability (MSI) status  \n",
    "  - Screen medium  \n",
    "  - Copy number alterations (CNA)  \n",
    "  - Gene expression  \n",
    "  - Methylation  \n",
    "\n",
    "- **Ternary Feature:**  \n",
    "  - Growth properties of cancer cells (adherent, semi-adherent, suspension)  \n",
    "\n",
    "- **Drug Target Pathway:**  \n",
    "  - Captures the molecular mechanism of action of the drug   "
   ]
  },
  {
   "cell_type": "code",
   "execution_count": null,
   "metadata": {},
   "outputs": [],
   "source": [
    "# Isolate the data of interest\n",
    "cols_to_keep = [\"microsatellite instability status (msi)\", \"screen medium\", \"cna\", \"gene expression\", \"methylation\", \"growth properties\", \"target_pathway\"]              \n",
    "y = brca_data.copy()[\"ln_ic50\"]\n",
    "X = brca_data.copy()[cols_to_keep] \n",
    "\n",
    "# Encode categorical features\n",
    "X[\"microsatellite instability status (msi)\"] = X[\"microsatellite instability status (msi)\"].map({\"MSS/MSI-L\": 1, \"MSI-H\": 0})\n",
    "X[\"growth properties\"] = X[\"growth properties\"].map({\"Adherent\": 0, \"Semi-adherent\": 1, \"Suspension\": 2})\n",
    "X[\"screen medium\"] = X[\"screen medium\"].map({\"D/F12\": 0, \"R\": 1})\n",
    "X[\"cna\"] = X[\"cna\"].map({\"Y\": 1, \"N\": 0})\n",
    "X[\"gene expression\"] = X[\"gene expression\"].map({\"Y\": 1, \"N\": 0})\n",
    "X[\"methylation\"] = X[\"methylation\"].map({\"Y\": 1, \"N\": 0})\n",
    "\n",
    "# Encode drug target pathway\n",
    "X = pd.get_dummies(X, columns=[\"target_pathway\"])\n",
    "# X.head()"
   ]
  },
  {
   "cell_type": "code",
   "execution_count": null,
   "metadata": {},
   "outputs": [],
   "source": [
    "from sklearn.model_selection import train_test_split\n",
    "\n",
    "# Split into training and testing sets\n",
    "X_train, X_test, y_train, y_test = train_test_split(X, y, test_size=0.2, shuffle=True, random_state=42)\n",
    "\n",
    "# Generate pairwise indices for training and testing sets\n",
    "def generate_pairwise_indices(X, y, n_pairs=80_000):\n",
    "    idx = np.array([(a, b) for a, b in zip(random.choices(X.index, k=n_pairs), random.choices(X.index, k=n_pairs)) if a != b])\n",
    "    X_diff = X.loc[idx[:, 0]].to_numpy() - X.loc[idx[:, 1]].to_numpy()\n",
    "    y_diff = y.loc[idx[:, 0]].to_numpy() - y.loc[idx[:, 1]].to_numpy()\n",
    "    y_diff = y_diff > 0\n",
    "    return X_diff, y_diff\n",
    "\n",
    "# Generate pairwise training data\n",
    "X_train_diff, y_train_diff = generate_pairwise_indices(X_train, y_train)\n",
    "\n",
    "# Generate pairwise testing data\n",
    "X_test_diff, y_test_diff = generate_pairwise_indices(X_test, y_test, n_pairs=20_000)\n",
    "\n",
    "# Display the shapes of the generated datasets\n",
    "print(\"X_train_diff shape:\", X_train_diff.shape)\n",
    "print(\"y_train_diff shape:\", y_train_diff.shape)\n",
    "print(\"X_test_diff shape:\", X_test_diff.shape)\n",
    "print(\"y_test_diff shape:\", y_test_diff.shape)"
   ]
  },
  {
   "cell_type": "markdown",
   "metadata": {},
   "source": []
  },
  {
   "cell_type": "markdown",
   "metadata": {},
   "source": [
    "## 3. Implementing ML Models\n",
    "In this step, we will implement and evaluate various machine learning models to predict drug sensitivity. "
   ]
  },
  {
   "cell_type": "code",
   "execution_count": null,
   "metadata": {
    "execution": {
     "iopub.execute_input": "2024-12-20T18:21:48.201312Z",
     "iopub.status.busy": "2024-12-20T18:21:48.200995Z",
     "iopub.status.idle": "2024-12-20T18:21:50.278060Z",
     "shell.execute_reply": "2024-12-20T18:21:50.276856Z",
     "shell.execute_reply.started": "2024-12-20T18:21:48.201282Z"
    },
    "trusted": true
   },
   "outputs": [],
   "source": [
    "from sklearn.linear_model import LogisticRegression\n",
    "from sklearn.ensemble import RandomForestClassifier\n",
    "\n",
    "\n",
    "# Use logistic regression as a baseline model\n",
    "# INSERT CODE HERE\n",
    "\n",
    "\n",
    "\n",
    "# Try something a little fancier (vroom vroom)\n",
    "# INSERT CODE HERE\n",
    "\n",
    "\n",
    "\n",
    "# Pretty plots and evaluation metrics!\n",
    "# INSERT CODE HERE"
   ]
  },
  {
   "cell_type": "markdown",
   "metadata": {},
   "source": [
    "## Questions for Exploration\n",
    "\n",
    "1. How do the logistic regression and random forest models compare in terms of accuracy?\n",
    "2. Which features are the most important in predicting drug sensitivity (IC50)?\n",
    "3. Are there any features that consistently appear as important across different models? \n",
    "4. Are there any surprising or counterintuitive findings in the feature importances? (i.e., would this support or refute any related biological hypothesis?)\n",
    "5. How robust are the models to changes in the training data? For example, how does the performance change if we use a different random seed for the train-test split?\n",
    "6. How do the models perform on different subsets of the data (e.g., different cancer subtypes)?\n",
    "7. What are the optimal hyperparameters for the logistic regression and random forest models?\n",
    "8. How does the performance change with different hyperparameter settings?"
   ]
  }
 ],
 "metadata": {
  "kaggle": {
   "accelerator": "none",
   "dataSources": [
    {
     "datasetId": 5535401,
     "sourceId": 9167838,
     "sourceType": "datasetVersion"
    }
   ],
   "isGpuEnabled": false,
   "isInternetEnabled": true,
   "language": "python",
   "sourceType": "notebook"
  },
  "kernelspec": {
   "display_name": "default",
   "language": "python",
   "name": "python3"
  },
  "language_info": {
   "codemirror_mode": {
    "name": "ipython",
    "version": 3
   },
   "file_extension": ".py",
   "mimetype": "text/x-python",
   "name": "python",
   "nbconvert_exporter": "python",
   "pygments_lexer": "ipython3",
   "version": "3.9.21"
  }
 },
 "nbformat": 4,
 "nbformat_minor": 4
}
